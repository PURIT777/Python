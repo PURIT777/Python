{
 "cells": [
  {
   "cell_type": "code",
   "execution_count": 1,
   "id": "e1475510",
   "metadata": {},
   "outputs": [],
   "source": [
    "#To calulate profit-loss for a given Cost prise and Sell prise"
   ]
  },
  {
   "cell_type": "code",
   "execution_count": 8,
   "id": "12edeb96",
   "metadata": {},
   "outputs": [
    {
     "name": "stdout",
     "output_type": "stream",
     "text": [
      "Welcome Dear Coustmer, Pls Enter Your Cost\n",
      "price and Sell prise.....\n",
      "S.P.= 20\n",
      "C.P.= 50\n",
      "It's a Loss of  30\n",
      "Thanku to use our servise\n"
     ]
    }
   ],
   "source": [
    "print(\"Welcome Dear Coustmer, Pls Enter Your Cost\")\n",
    "print(\"price and Sell prise.....\")\n",
    "a=int(input(\"S.P.= \"))\n",
    "b=int(input(\"C.P.= \"))\n",
    "if (b<a):\n",
    "    print(\"Congo! you have a profit of \", a-b)\n",
    "elif(a<b):\n",
    "    print(\"It's a Loss of \", b-a)\n",
    "else:\n",
    "    priint(\"Invalid entry\")\n",
    "print(\"Thanku to use our servise\")"
   ]
  },
  {
   "cell_type": "code",
   "execution_count": null,
   "id": "f13e608a",
   "metadata": {},
   "outputs": [],
   "source": []
  }
 ],
 "metadata": {
  "kernelspec": {
   "display_name": "Python 3",
   "language": "python",
   "name": "python3"
  },
  "language_info": {
   "codemirror_mode": {
    "name": "ipython",
    "version": 3
   },
   "file_extension": ".py",
   "mimetype": "text/x-python",
   "name": "python",
   "nbconvert_exporter": "python",
   "pygments_lexer": "ipython3",
   "version": "3.8.8"
  }
 },
 "nbformat": 4,
 "nbformat_minor": 5
}
