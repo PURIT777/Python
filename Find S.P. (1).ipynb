{
 "cells": [
  {
   "cell_type": "code",
   "execution_count": 1,
   "id": "075c11c1",
   "metadata": {},
   "outputs": [],
   "source": [
    "#To Find S.P. of an item with given cost and discount(%)"
   ]
  },
  {
   "cell_type": "code",
   "execution_count": 6,
   "id": "72fb0558",
   "metadata": {},
   "outputs": [
    {
     "name": "stdout",
     "output_type": "stream",
     "text": [
      "Hi dear coustemer, pleas Enter C.P. an Discount\n",
      "C.P.= 100\n",
      "Discount= 5\n",
      "Your dicounted prise is  95.0\n"
     ]
    }
   ],
   "source": [
    "print(\"Hi dear coustemer, pleas Enter C.P. an Discount\")\n",
    "CP=int(input(\"C.P.= \"))\n",
    "D=int(input(\"Discount= \"))\n",
    "d=CP*D/100\n",
    "sp=CP-d\n",
    "print(\"Your dicounted prise is \",sp,)"
   ]
  },
  {
   "cell_type": "code",
   "execution_count": null,
   "id": "33fc0681",
   "metadata": {},
   "outputs": [],
   "source": []
  }
 ],
 "metadata": {
  "kernelspec": {
   "display_name": "Python 3",
   "language": "python",
   "name": "python3"
  },
  "language_info": {
   "codemirror_mode": {
    "name": "ipython",
    "version": 3
   },
   "file_extension": ".py",
   "mimetype": "text/x-python",
   "name": "python",
   "nbconvert_exporter": "python",
   "pygments_lexer": "ipython3",
   "version": "3.8.8"
  }
 },
 "nbformat": 4,
 "nbformat_minor": 5
}
