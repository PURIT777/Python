{
 "cells": [
  {
   "cell_type": "code",
   "execution_count": 6,
   "id": "3a697293",
   "metadata": {},
   "outputs": [
    {
     "name": "stdout",
     "output_type": "stream",
     "text": [
      "Enter pH: 13\n",
      "Basic\n"
     ]
    }
   ],
   "source": [
    "#Sanika\n",
    "pH=(float(input(\"Enter pH: \")))\n",
    "if(pH<7):\n",
    "    print(\"Acidic\")\n",
    "elif(pH==7):\n",
    "    print(\"Neutral\")\n",
    "elif(pH>7 and pH<=14):\n",
    "    print(\"Basic\")\n",
    "else:\n",
    "    print(\"Invalid input\")"
   ]
  },
  {
   "cell_type": "code",
   "execution_count": 2,
   "id": "8f6bac59",
   "metadata": {},
   "outputs": [
    {
     "name": "stdout",
     "output_type": "stream",
     "text": [
      "What's your name: Purvesh\n",
      "What's your marks: 91\n",
      "Very Good!\n"
     ]
    }
   ],
   "source": [
    "#Kushal\n",
    "#<35 fail,35 < x < 45....Just passed, 46<x<74...Average, 75<x<90...Good\n",
    "#90<...passed\n",
    "student_name=(str(input(\"What's your name: \")))\n",
    "student_marks=(int(input(\"What's your marks: \")))\n",
    "if(-1<student_marks<35):\n",
    "    print(\"Fail!!!!!\")\n",
    "elif(35<student_marks<46):\n",
    "    print(\"Just passed\")\n",
    "elif(46<=student_marks<75):\n",
    "    print(\"Average\")\n",
    "elif(75<=student_marks<=90):\n",
    "    print(\"Good\")\n",
    "elif(90<student_marks<101):\n",
    "    print(\"Very Good!\")\n",
    "else:\n",
    "    print(\"Invalid Input\")"
   ]
  },
  {
   "cell_type": "code",
   "execution_count": 7,
   "id": "d40a7617",
   "metadata": {},
   "outputs": [
    {
     "name": "stdout",
     "output_type": "stream",
     "text": [
      "Please enter your marks: 77\n",
      "You scored good. :-)\n"
     ]
    }
   ],
   "source": [
    "#Alt to the upper one(VED)\n",
    "marks = float(input(\"Please enter your marks: \"))\n",
    "\n",
    "if marks < 35:\n",
    "    print('You failed :-(')\n",
    "    \n",
    "elif marks > 35 and marks < 45:\n",
    "    print(\"Phew! You just passed.\")\n",
    "    \n",
    "elif marks > 46 and marks < 74:\n",
    "    print(\"You scored Average :-|\")\n",
    "    \n",
    "elif marks > 75 and marks < 90:\n",
    "    print(\"You scored good. :-)\")\n",
    "    \n",
    "elif marks < 90 and marks < 100:\n",
    "    print(\"Very good. :-D\")\n",
    "    \n",
    "else:\n",
    "    print(\"Please enter valid marks ranging from 0 to 100.\")"
   ]
  }
 ],
 "metadata": {
  "kernelspec": {
   "display_name": "Python 3",
   "language": "python",
   "name": "python3"
  },
  "language_info": {
   "codemirror_mode": {
    "name": "ipython",
    "version": 3
   },
   "file_extension": ".py",
   "mimetype": "text/x-python",
   "name": "python",
   "nbconvert_exporter": "python",
   "pygments_lexer": "ipython3",
   "version": "3.8.8"
  }
 },
 "nbformat": 4,
 "nbformat_minor": 5
}
