{
 "cells": [
  {
   "cell_type": "code",
   "execution_count": 1,
   "id": "3e5fb130",
   "metadata": {},
   "outputs": [
    {
     "name": "stdout",
     "output_type": "stream",
     "text": [
      "Hi there, Welcome to store!\n",
      "List:- \n",
      "Bananas\n",
      "Apples\n",
      "Orange\n",
      "Kiwi\n",
      "Mango\n",
      "Watermelown\n",
      "Cheery\n",
      "Strawberry\n",
      "Graps\n",
      "PLs MEntion it Below\n",
      "What would you like to buy?Apples\n",
      "One Unit Costs rs 30/-\n",
      "How much would you like to buy50\n",
      "Thanks For buying. your cost is 1500 /-\n",
      "   \n",
      "   \n",
      "   \n",
      "Thanks! Come Again\n"
     ]
    }
   ],
   "source": [
    "print(\"Hi there, Welcome to store!\")\n",
    "print(\"List:- \")\n",
    "print(\"Bananas\")\n",
    "print(\"Apples\")\n",
    "print(\"Orange\")\n",
    "print(\"Kiwi\")\n",
    "print(\"Mango\")\n",
    "print(\"Watermelown\")\n",
    "print(\"Cheery\")\n",
    "print(\"Strawberry\")\n",
    "print(\"Graps\")\n",
    "print(\"PLs MEntion it Below\")\n",
    "a=str(input(\"What would you like to buy?\"))\n",
    "if (a==\"Bananas\"):\n",
    "    print(\"One Unit Costs rs 15/-\")\n",
    "    b= int(input(\"How much would you like to buy\"))\n",
    "    print(\"Thanks For buying. your cost is\",15*b,\"/-\")\n",
    "if (a==\"Apples\"):\n",
    "    print(\"One Unit Costs rs 30/-\")\n",
    "    b= int(input(\"How much would you like to buy\"))\n",
    "    print(\"Thanks For buying. your cost is\",30*b,\"/-\")\n",
    "if (a==\"Orange\"):\n",
    "    print(\"One Unit Costs rs 25/-\")\n",
    "    b= int(input(\"How much would you like to buy\"))\n",
    "    print(\"Thanks For buying. your cost is\",25*b,\"/-\")\n",
    "if (a==\"Kiwi\"):\n",
    "    print(\"One Unit Costs rs 20/-\")\n",
    "    b= int(input(\"How much would you like to buy\"))\n",
    "    print(\"Thanks For buying. your cost is\",20*b,\"/-\")\n",
    "if (a==\"Mango\"):\n",
    "    print(\"One Unit Costs rs 30/-\")\n",
    "    b= int(input(\"How much would you like to buy\"))\n",
    "    print(\"Thanks For buying. your cost is\",30*b,\"/-\")\n",
    "if (a==\"Watermelown\"):\n",
    "    print(\"One Unit Costs rs 40/-\")\n",
    "    b= int(input(\"How much would you like to buy\"))\n",
    "    print(\"Thanks For buying. your cost is\",40*b,\"/-\")\n",
    "if (a==\"Cheery\"):\n",
    "    print(\"One Unit Costs rs 15/-\")\n",
    "    b= int(input(\"How much would you like to buy\"))\n",
    "    print(\"Thanks For buying. your cost is\",15*b,\"/-\")\n",
    "if (a==\"Strawberry\"):\n",
    "    print(\"One Unit Costs rs 20/-\")\n",
    "    b= int(input(\"How much would you like to buy\"))\n",
    "    print(\"Thanks For buying. your cost is\",20*b,\"/-\")\n",
    "if (a==\"Graps\"):\n",
    "    print(\"One Bunch of 50gm Costs rs 30/-\")\n",
    "    b= int(input(\"How much Bunch/es would you like to buy\"))\n",
    "    print(\"Thanks For buying. your cost is\",30*b,\"/-\")\n",
    "print(\"   \")\n",
    "print(\"   \")    \n",
    "print(\"   \")   \n",
    "print(\"Thanks! Come Again\")"
   ]
  },
  {
   "cell_type": "code",
   "execution_count": null,
   "id": "d029e693",
   "metadata": {},
   "outputs": [],
   "source": []
  },
  {
   "cell_type": "code",
   "execution_count": null,
   "id": "adbd45e8",
   "metadata": {},
   "outputs": [],
   "source": []
  }
 ],
 "metadata": {
  "kernelspec": {
   "display_name": "Python 3",
   "language": "python",
   "name": "python3"
  },
  "language_info": {
   "codemirror_mode": {
    "name": "ipython",
    "version": 3
   },
   "file_extension": ".py",
   "mimetype": "text/x-python",
   "name": "python",
   "nbconvert_exporter": "python",
   "pygments_lexer": "ipython3",
   "version": "3.8.8"
  }
 },
 "nbformat": 4,
 "nbformat_minor": 5
}
