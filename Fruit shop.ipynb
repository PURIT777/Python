{
 "cells": [
  {
   "cell_type": "code",
   "execution_count": 1,
   "id": "3e5fb130",
   "metadata": {},
   "outputs": [
    {
     "name": "stdout",
     "output_type": "stream",
     "text": [
      "Hi there, Welcome to store!\n",
      "List:- \n",
      "Bananas,Apple,Orange,Kiwi,Mango,Watermelown,cheery,Stawberry,Graps\n",
      "PLs MEntion it Below\n",
      "What would you like to buy?Cheery\n",
      "One Unit Costs rs 15/-\n",
      "How much would you like to buy20\n",
      "Thanks For buying. your cost is 300 /-\n",
      "   \n",
      "   \n",
      "   \n",
      "Thanks! Come Again\n"
     ]
    }
   ],
   "source": [
    "print(\"Hi there, Welcome to store!\")\n",
    "print(\"List:- \")\n",
    "print(\"Bananas,Apple,Orange,Kiwi,Mango,Watermelown,cheery,Stawberry,Graps\")\n",
    "print(\"PLs MEntion it Below\")\n",
    "a=str(input(\"What would you like to buy?\"))\n",
    "if (a==\"Bananas\"):\n",
    "    print(\"One Unit Costs rs 15/-\")\n",
    "    b= int(input(\"How much would you like to buy\"))\n",
    "    print(\"Thanks For buying. your cost is\",15*b,\"/-\")\n",
    "elif (a==\"Apples\"):\n",
    "    print(\"One Unit Costs rs 30/-\")\n",
    "    b= int(input(\"How much would you like to buy\"))\n",
    "    print(\"Thanks For buying. your cost is\",30*b,\"/-\")\n",
    "elif (a==\"Orange\"):\n",
    "    print(\"One Unit Costs rs 25/-\")\n",
    "    b= int(input(\"How much would you like to buy\"))\n",
    "    print(\"Thanks For buying. your cost is\",25*b,\"/-\")\n",
    "elif (a==\"Kiwi\"):\n",
    "    print(\"One Unit Costs rs 20/-\")\n",
    "    b= int(input(\"How much would you like to buy\"))\n",
    "    print(\"Thanks For buying. your cost is\",20*b,\"/-\")\n",
    "elif (a==\"Mango\"):\n",
    "    print(\"One Unit Costs rs 30/-\")\n",
    "    b= int(input(\"How much would you like to buy\"))\n",
    "    print(\"Thanks For buying. your cost is\",30*b,\"/-\")\n",
    "elif (a==\"Watermelown\"):\n",
    "    print(\"One Unit Costs rs 40/-\")\n",
    "    b= int(input(\"How much would you like to buy\"))\n",
    "    print(\"Thanks For buying. your cost is\",40*b,\"/-\")\n",
    "elif (a==\"Cheery\"):\n",
    "    print(\"One Unit Costs rs 15/-\")\n",
    "    b= int(input(\"How much would you like to buy\"))\n",
    "    print(\"Thanks For buying. your cost is\",15*b,\"/-\")\n",
    "elif (a==\"Strawberry\"):\n",
    "    print(\"One Unit Costs rs 20/-\")\n",
    "    b= int(input(\"How much would you like to buy\"))\n",
    "    print(\"Thanks For buying. your cost is\",20*b,\"/-\")\n",
    "elif (a==\"Graps\"):\n",
    "    print(\"One Bunch of 50gm Costs rs 30/-\")\n",
    "    b= int(input(\"How much Bunch/es would you like to buy\"))\n",
    "    print(\"Thanks For buying. your cost is\",30*b,\"/-\")\n",
    "else:\n",
    "    print(\"Invalid input\")\n",
    "print(\"   \")\n",
    "print(\"   \")    \n",
    "print(\"   \")   \n",
    "print(\"Thanks! Come Again\")"
   ]
  },
  {
   "cell_type": "code",
   "execution_count": null,
   "id": "b42e973e",
   "metadata": {},
   "outputs": [],
   "source": []
  }
 ],
 "metadata": {
  "kernelspec": {
   "display_name": "Python 3",
   "language": "python",
   "name": "python3"
  },
  "language_info": {
   "codemirror_mode": {
    "name": "ipython",
    "version": 3
   },
   "file_extension": ".py",
   "mimetype": "text/x-python",
   "name": "python",
   "nbconvert_exporter": "python",
   "pygments_lexer": "ipython3",
   "version": "3.8.8"
  }
 },
 "nbformat": 4,
 "nbformat_minor": 5
}
